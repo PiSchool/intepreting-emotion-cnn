{
 "cells": [
  {
   "cell_type": "code",
   "execution_count": 1,
   "metadata": {
    "scrolled": true
   },
   "outputs": [
    {
     "name": "stderr",
     "output_type": "stream",
     "text": [
      "Using TensorFlow backend.\n"
     ]
    },
    {
     "name": "stdout",
     "output_type": "stream",
     "text": [
      "Notebook run using keras: 2.0.8\n"
     ]
    }
   ],
   "source": [
    "import sys, os\n",
    "sys.path.append('../../../Interpreters/lime')\n",
    "import numpy as np\n",
    "import keras\n",
    "from keras.models import load_model\n",
    "print('Notebook run using keras:', keras.__version__)"
   ]
  },
  {
   "cell_type": "raw",
   "metadata": {},
   "source": [
    "#\n",
    "# Load the trained neural network model to be tested #\n",
    "#"
   ]
  },
  {
   "cell_type": "code",
   "execution_count": 2,
   "metadata": {},
   "outputs": [],
   "source": [
    "# name-batch-accuracy\n",
    "emotion_model_path = '../trained_models/emotion_models/fer2013_mini_XCEPTION.87-0.66.hdf5'\n",
    "emotion_labels = {0:'angry',1:'disgust',2:'fear',3:'happy', 4:'sad',5:'surprise',6:'neutral'}\n",
    "emotion_classifier = load_model(emotion_model_path, compile=False)"
   ]
  },
  {
   "cell_type": "raw",
   "metadata": {},
   "source": [
    "#\n",
    "# Get model configuration #\n",
    "#"
   ]
  },
  {
   "cell_type": "code",
   "execution_count": 3,
   "metadata": {
    "scrolled": true
   },
   "outputs": [
    {
     "name": "stdout",
     "output_type": "stream",
     "text": [
      "(64, 64)\n"
     ]
    }
   ],
   "source": [
    "emotion_target_size = emotion_classifier.input_shape[1:3]\n",
    "print(emotion_target_size)"
   ]
  },
  {
   "cell_type": "raw",
   "metadata": {},
   "source": [
    "# \n",
    "# Read some images for testing - true means it has been labelled correctly #\n",
    "#"
   ]
  },
  {
   "cell_type": "code",
   "execution_count": 4,
   "metadata": {},
   "outputs": [
    {
     "data": {
      "image/png": "[encoded data removed]",
      "text/plain": [
       "<matplotlib.figure.Figure at 0x7f660a225b70>"
      ]
     },
     "metadata": {},
     "output_type": "display_data"
    },
    {
     "name": "stdout",
     "output_type": "stream",
     "text": [
      "(64, 64)\n"
     ]
    }
   ],
   "source": [
    "import glob as gb\n",
    "import cv2\n",
    "import matplotlib.pyplot as plt\n",
    "import utils.preprocessor as preprocess\n",
    "%matplotlib inline\n",
    "\n",
    "image_file1 = '../../../dataset/Kaggle/Testing/0/PrivateTest_6626636.jpg'     # angry face (true)\n",
    "#image_file1 = '../../../dataset/Kaggle/Testing/1/PrivateTest_47058258.jpg'    # disgust face (true)\n",
    "#image_file1 = '../../../dataset/Kaggle/Testing/2/PrivateTest_7164408.jpg'     # fear face (false)\n",
    "#image_file1 = '../../../dataset/Kaggle/Testing/3/PrivateTest_8335656.jpg'     # happy face (true)\n",
    "#image_file1 = '../../../dataset/Kaggle/Testing/4/PrivateTest_4351449.jpg'     # sad face (true)\n",
    "#image_file1 = '../../../dataset/Kaggle/Testing/5/PrivateTest_10026554.jpg'    # surprise (true)\n",
    "#image_file1 = '../../../dataset/Kaggle/Testing/6/PrivateTest_5962241.jpg'      # neutral (true)\n",
    "\n",
    "img1 = preprocess._imread(image_file1)\n",
    "img1 = preprocess._imresize(img1,emotion_target_size)\n",
    "img1 = preprocess.preprocess_input(img1)\n",
    "plt.imshow(img1,cmap='gray')\n",
    "plt.show()\n",
    "print(img1.shape)"
   ]
  },
  {
   "cell_type": "raw",
   "metadata": {},
   "source": [
    "#\n",
    "# Prediction\n",
    "#"
   ]
  },
  {
   "cell_type": "code",
   "execution_count": 5,
   "metadata": {},
   "outputs": [
    {
     "name": "stdout",
     "output_type": "stream",
     "text": [
      "image data shape:  (1, 64, 64, 1)\n",
      "prediction:  angry\n"
     ]
    }
   ],
   "source": [
    "# 4D reshape tensor\n",
    "img1_data = np.expand_dims(img1, 0)\n",
    "img1_data = np.expand_dims(img1_data, -1)\n",
    "print(\"image data shape: \", img1_data.shape)\n",
    "preds = emotion_classifier.predict(img1_data) \n",
    "emotion_label_arg = np.argmax(preds)\n",
    "emotion_text = emotion_labels[emotion_label_arg]\n",
    "print(\"prediction: \", emotion_text)"
   ]
  },
  {
   "cell_type": "code",
   "execution_count": 6,
   "metadata": {
    "scrolled": true
   },
   "outputs": [
    {
     "name": "stdout",
     "output_type": "stream",
     "text": [
      "Softmax probability of the prediction\n",
      "[[  8.61969709e-01   3.98434437e-04   1.27883121e-01   8.01160093e-03\n",
      "    3.34763230e-04   1.36138836e-03   4.10687899e-05]]\n"
     ]
    }
   ],
   "source": [
    "smax = preds\n",
    "print(\"Softmax probability of the prediction\")\n",
    "print(smax)"
   ]
  },
  {
   "cell_type": "raw",
   "metadata": {},
   "source": [
    "# Make 4D data for tensorflow and 3 channel for Lime (x,x,x,3)"
   ]
  },
  {
   "cell_type": "code",
   "execution_count": 7,
   "metadata": {},
   "outputs": [],
   "source": [
    "# make 3 channels data for lime \n",
    "#pad_0 = np.zeros((1,64,64,1),dtype=np.float)\n",
    "image_stack = np.append(img1_data, img1_data[...,0,None], axis=-1)\n",
    "image_stack = np.append(image_stack, img1_data[...,0,None], axis=-1)\n",
    "image_stack = image_stack.astype('float32')\n",
    "image_stack = np.asarray(image_stack)"
   ]
  },
  {
   "cell_type": "raw",
   "metadata": {},
   "source": [
    "# ############################################################################################################## #\n",
    "\n",
    "#                               Lime Explainer Pipline- Start here                                               #\n",
    "\n",
    "# ############################################################################################################## #"
   ]
  },
  {
   "cell_type": "code",
   "execution_count": 8,
   "metadata": {},
   "outputs": [],
   "source": [
    "import copy\n",
    "import numpy as np\n",
    "import sklearn\n",
    "import sklearn.preprocessing\n",
    "from sklearn.utils import check_random_state\n",
    "from skimage.segmentation import quickshift"
   ]
  },
  {
   "cell_type": "raw",
   "metadata": {},
   "source": [
    "# 1- Paramaters setting"
   ]
  },
  {
   "cell_type": "code",
   "execution_count": 9,
   "metadata": {},
   "outputs": [],
   "source": [
    "random_seed = check_random_state(None).randint(0, high=1000) # seed for random data gen\n",
    "qs_kernel_size = 2                                           # quickshift segmentation \n",
    "hide_color=0                                                 # mask zero or mean average when superpixels are off\n",
    "labels=(1,)                                                  # ----\n",
    "num_samples=1000                                             # number of data instances\n",
    "num_features=1000                                            # see feature_selection(..)\n",
    "top_labels=7                                                 # how many labels we want to check\n",
    "batch_size=10                                                # batch processing for any classifiers\n",
    "distance_metric='cosine'                                     # pairwise_distances function\n",
    "model_regressor=None                                         # if none, we use Ridge Regression\n",
    "classifier_fn = emotion_classifier.predict                   # Black-Box model to be explained\n",
    "image = image_stack[0]                                       # Image to be used for Lime explanation \n"
   ]
  },
  {
   "cell_type": "raw",
   "metadata": {},
   "source": [
    "# 2- Quickshift image segmentation"
   ]
  },
  {
   "cell_type": "code",
   "execution_count": 10,
   "metadata": {},
   "outputs": [],
   "source": [
    "segments = quickshift(image, kernel_size=qs_kernel_size,max_dist=200, ratio=0.2, random_seed=random_seed)"
   ]
  },
  {
   "cell_type": "code",
   "execution_count": 12,
   "metadata": {},
   "outputs": [
    {
     "data": {
      "image/png": "[encoded data removed]",
      "text/plain": [
       "<matplotlib.figure.Figure at 0x7f659c164b70>"
      ]
     },
     "metadata": {},
     "output_type": "display_data"
    }
   ],
   "source": [
    "plt.imshow(segments)\n",
    "plt.show()"
   ]
  },
  {
   "cell_type": "code",
   "execution_count": 161,
   "metadata": {},
   "outputs": [],
   "source": [
    "fudged_image = image.copy()\n",
    "if hide_color is None:\n",
    "    for x in np.unique(segments):\n",
    "        fudged_image[segments == x] = (\n",
    "            np.mean(image[segments == x][:, 0]),\n",
    "            np.mean(image[segments == x][:, 1]),\n",
    "            np.mean(image[segments == x][:, 2]))\n",
    "else:\n",
    "    fudged_image[:] = hide_color"
   ]
  },
  {
   "cell_type": "code",
   "execution_count": 162,
   "metadata": {},
   "outputs": [
    {
     "data": {
      "image/png": "[encoded data removed]",
      "text/plain": [
       "<matplotlib.figure.Figure at 0x7fdd80085e80>"
      ]
     },
     "metadata": {},
     "output_type": "display_data"
    },
    {
     "name": "stdout",
     "output_type": "stream",
     "text": [
      "Below segment pixels willl be used as a mask (using zero)\n"
     ]
    }
   ],
   "source": [
    "plt.imshow(fudged_image/2+0.5,cmap='gray')\n",
    "plt.show()\n",
    "print(\"Below segment pixels willl be used as a mask (using zero)\")"
   ]
  },
  {
   "cell_type": "code",
   "execution_count": 163,
   "metadata": {},
   "outputs": [
    {
     "name": "stdout",
     "output_type": "stream",
     "text": [
      "(1,)\n"
     ]
    }
   ],
   "source": [
    "top = labels\n",
    "print(top)"
   ]
  },
  {
   "cell_type": "raw",
   "metadata": {},
   "source": [
    "# 3- Generating data instance to be use by Lime          \n",
    "     by masking image randomly using the segmentations\n",
    "     ---------------------------------------------------\n",
    "     (n_samples x n_segmentation)                  "
   ]
  },
  {
   "cell_type": "code",
   "execution_count": 164,
   "metadata": {},
   "outputs": [],
   "source": [
    "# number of segmentations \n",
    "n_features = np.unique(segments).shape[0]\n",
    "random_state = check_random_state(None)\n",
    "data = random_state.randint(0, 2, num_samples * n_features).reshape((num_samples, n_features))"
   ]
  },
  {
   "cell_type": "code",
   "execution_count": 165,
   "metadata": {},
   "outputs": [
    {
     "name": "stdout",
     "output_type": "stream",
     "text": [
      "[[0 0 1 ..., 1 1 1]\n",
      " [1 1 0 ..., 1 0 1]\n",
      " [1 0 0 ..., 1 1 1]\n",
      " ..., \n",
      " [0 0 0 ..., 1 1 1]\n",
      " [1 0 0 ..., 1 1 1]\n",
      " [1 1 1 ..., 0 0 0]]\n"
     ]
    },
    {
     "data": {
      "text/plain": [
       "(1000, 18)"
      ]
     },
     "execution_count": 165,
     "metadata": {},
     "output_type": "execute_result"
    }
   ],
   "source": [
    "print(data)\n",
    "data.shape"
   ]
  },
  {
   "cell_type": "raw",
   "metadata": {},
   "source": [
    "# 4- Making corresponding prediction on the given mask images\n",
    "     The altered images are fed to the black-box model for the prediction"
   ]
  },
  {
   "cell_type": "code",
   "execution_count": 166,
   "metadata": {},
   "outputs": [],
   "source": [
    "labels = []\n",
    "data[0, :] = 1\n",
    "imgs = []\n",
    "# run through all instances (i.e 1000 ways of masking)\n",
    "for row in data:\n",
    "    temp = copy.deepcopy(image)\n",
    "    zeros = np.where(row == 0)[0]\n",
    "    mask = np.zeros(segments.shape).astype(bool)\n",
    "    # masking each instance randomly\n",
    "    for z in zeros:\n",
    "        mask[segments == z] = True\n",
    "    temp[mask] = fudged_image[mask]\n",
    "    imgs.append(temp)\n",
    "    # do a batch processing\n",
    "    if len(imgs) == batch_size:\n",
    "        # Punnu: Quick fix- making to one channel\n",
    "        img_x = np.array(imgs)                  # numpy\n",
    "        img_x = img_x[:,:,:,0]                  # extract one channel (now 3D)\n",
    "        img_x = np.expand_dims(img_x, axis=-1)  # make it to 4D for tensorflow\n",
    "        preds = classifier_fn(img_x)\n",
    "        # Punnu: end\n",
    "\n",
    "        labels.extend(preds)\n",
    "        imgs = []\n",
    "        \n",
    "# not a complete full batch\n",
    "if len(imgs) > 0:\n",
    "    # Punnu: Quick fix- making to one channel\n",
    "    img_x = np.array(imgs)                  # numpy\n",
    "    img_x = img_x[:,:,:,0]                  # extract one channel (now 3D)\n",
    "    img_x = np.expand_dims(img_x, axis=-1)  # make it to 4D for tensorflow\n",
    "    preds = classifier_fn(img_x)\n",
    "    # Punnu: end\n",
    "\n",
    "    #preds = classifier_fn(np.array(imgs))\n",
    "    labels.extend(preds)"
   ]
  },
  {
   "cell_type": "code",
   "execution_count": 167,
   "metadata": {},
   "outputs": [
    {
     "data": {
      "image/png": "[encoded data removed]",
      "text/plain": [
       "<matplotlib.figure.Figure at 0x7fdd68c5d048>"
      ]
     },
     "metadata": {},
     "output_type": "display_data"
    },
    {
     "name": "stdout",
     "output_type": "stream",
     "text": [
      "corresponding softmax prediction: first one without masking out/original\n",
      "[[  8.61969709e-01   3.98435019e-04   1.27883121e-01   8.01160838e-03\n",
      "    3.34763230e-04   1.36138836e-03   4.10688699e-05]]\n",
      "[[  2.88563073e-01   1.25727177e-01   3.62482369e-01   5.27130552e-02\n",
      "    6.70934394e-02   5.80841303e-02   4.53367643e-02]\n",
      " [  5.95963001e-01   1.25525091e-02   1.25590578e-01   9.69002768e-02\n",
      "    6.70936406e-02   3.44684497e-02   6.74315691e-02]\n",
      " [  5.75373530e-01   1.25475155e-04   2.30258033e-01   1.80827230e-01\n",
      "    1.05260545e-02   1.38834445e-03   1.50131783e-03]\n",
      " [  5.68214469e-02   6.22872554e-04   6.78463131e-02   8.27352166e-01\n",
      "    7.03902775e-03   3.86285298e-02   1.68971869e-03]]\n"
     ]
    }
   ],
   "source": [
    "plt.figure(figsize=(15,15))\n",
    "plt.subplot(1,5,1)\n",
    "plt.imshow(img1,cmap='gray')\n",
    "plt.subplot(1,5,2)\n",
    "plt.imshow(img_x[0][:,:,0],cmap='gray')\n",
    "plt.subplot(1,5,3)\n",
    "plt.imshow(img_x[1][:,:,0],cmap='gray')\n",
    "plt.subplot(1,5,4)\n",
    "plt.imshow(img_x[2][:,:,0],cmap='gray')\n",
    "plt.subplot(1,5,5)\n",
    "plt.imshow(img_x[3][:,:,0],cmap='gray')\n",
    "plt.show()\n",
    "\n",
    "print(\"corresponding softmax prediction: first one without masking out/original\")\n",
    "temp = np.array(preds[0:4])\n",
    "print(smax)\n",
    "print(temp)"
   ]
  },
  {
   "cell_type": "raw",
   "metadata": {},
   "source": [
    "# 5- Compute the weight of these images:\n",
    "     - Compute pairwise distance \n",
    "     - How much the mask images deviated from the original one\n",
    "     - We will use this distance later to compute weight of all instance as explained in the paper"
   ]
  },
  {
   "cell_type": "code",
   "execution_count": 168,
   "metadata": {},
   "outputs": [],
   "source": [
    "from sklearn.metrics import pairwise_distances"
   ]
  },
  {
   "cell_type": "code",
   "execution_count": 169,
   "metadata": {},
   "outputs": [],
   "source": [
    "distances = pairwise_distances(data, data[0].reshape(1, -1),metric=distance_metric).ravel()"
   ]
  },
  {
   "cell_type": "code",
   "execution_count": 170,
   "metadata": {},
   "outputs": [
    {
     "name": "stdout",
     "output_type": "stream",
     "text": [
      "0.0\n",
      "0.2546440075\n",
      "0.42264973081\n",
      "0.333333333333\n",
      "0.2546440075\n"
     ]
    }
   ],
   "source": [
    "# note distance 0 always Zero it is the reference\n",
    "# see data[0, :] = 1 in the above cell\n",
    "print(distances[0])\n",
    "print(distances[1])\n",
    "print(distances[2])\n",
    "print(distances[3])\n",
    "print(distances[4])"
   ]
  },
  {
   "cell_type": "raw",
   "metadata": {},
   "source": [
    "# 6 Image Explanation bits \n",
    "    - Using Ridge Regression to work out the importance of the missing feature\n",
    "    - Feature ranking derived from clf.coef_"
   ]
  },
  {
   "cell_type": "raw",
   "metadata": {},
   "source": [
    "# Visualise some data"
   ]
  },
  {
   "cell_type": "code",
   "execution_count": 171,
   "metadata": {},
   "outputs": [],
   "source": [
    "from lime.lime_image import ImageExplanation"
   ]
  },
  {
   "cell_type": "code",
   "execution_count": 172,
   "metadata": {},
   "outputs": [],
   "source": [
    "ret_exp = ImageExplanation(image, segments)"
   ]
  },
  {
   "cell_type": "code",
   "execution_count": 173,
   "metadata": {
    "scrolled": true
   },
   "outputs": [
    {
     "data": {
      "text/plain": [
       "array([  8.61969709e-01,   3.98434437e-04,   1.27883121e-01,\n",
       "         8.01160093e-03,   3.34763230e-04,   1.36138836e-03,\n",
       "         4.10687899e-05], dtype=float32)"
      ]
     },
     "execution_count": 173,
     "metadata": {},
     "output_type": "execute_result"
    }
   ],
   "source": [
    "labels[0]"
   ]
  },
  {
   "cell_type": "code",
   "execution_count": 174,
   "metadata": {},
   "outputs": [],
   "source": [
    "# label[0] is the master softmax prediction (without masking)\n",
    "top = np.argsort(labels[0])[-top_labels:]\n",
    "ret_exp.top_labels = list(top)"
   ]
  },
  {
   "cell_type": "code",
   "execution_count": 175,
   "metadata": {},
   "outputs": [
    {
     "data": {
      "text/plain": [
       "[6, 4, 1, 5, 3, 2, 0]"
      ]
     },
     "execution_count": 175,
     "metadata": {},
     "output_type": "execute_result"
    }
   ],
   "source": [
    "ret_exp.top_labels # worst to best label prediction "
   ]
  },
  {
   "cell_type": "code",
   "execution_count": 176,
   "metadata": {},
   "outputs": [],
   "source": [
    "ret_exp.top_labels.reverse()"
   ]
  },
  {
   "cell_type": "code",
   "execution_count": 177,
   "metadata": {},
   "outputs": [
    {
     "data": {
      "text/plain": [
       "[0, 2, 3, 5, 1, 4, 6]"
      ]
     },
     "execution_count": 177,
     "metadata": {},
     "output_type": "execute_result"
    }
   ],
   "source": [
    "ret_exp.top_labels # best to worst label prediction"
   ]
  },
  {
   "cell_type": "code",
   "execution_count": 178,
   "metadata": {},
   "outputs": [
    {
     "name": "stdout",
     "output_type": "stream",
     "text": [
      "6\n",
      "4\n",
      "1\n",
      "5\n",
      "3\n",
      "2\n",
      "0\n"
     ]
    }
   ],
   "source": [
    "for label in top:\n",
    "    print(label)"
   ]
  },
  {
   "cell_type": "raw",
   "metadata": {},
   "source": [
    "#\n",
    "# Base Part Explanation- Ridge #\n",
    "#"
   ]
  },
  {
   "cell_type": "code",
   "execution_count": 179,
   "metadata": {},
   "outputs": [],
   "source": [
    "from sklearn.linear_model import Ridge, lars_path\n",
    "\n",
    "def kernel(d):\n",
    "    kernel_width=.25\n",
    "    return np.sqrt(np.exp(-(d ** 2) / kernel_width ** 2))\n",
    "\n",
    "\n",
    "def generate_lars_path(weighted_data, weighted_labels):\n",
    "    x_vector = weighted_data\n",
    "    alphas, _, coefs = lars_path(x_vector,\n",
    "                                 weighted_labels,\n",
    "                                 method='lasso',\n",
    "                                 verbose=False)\n",
    "    return alphas, coefs\n",
    "\n",
    "def forward_selection(data, labels, weights, num_features):\n",
    "    \"\"\"Iteratively adds features to the model\"\"\"\n",
    "    clf = Ridge(alpha=0, fit_intercept=True, random_state=check_random_state(None))\n",
    "    used_features = []\n",
    "    for _ in range(min(num_features, data.shape[1])):\n",
    "        max_ = -100000000\n",
    "        best = 0\n",
    "        for feature in range(data.shape[1]):\n",
    "            if feature in used_features:\n",
    "                continue\n",
    "            clf.fit(data[:, used_features + [feature]], labels, sample_weight=weights)\n",
    "            score = clf.score(data[:, used_features + [feature]],labels, sample_weight=weights)\n",
    "            \n",
    "            if score > max_:\n",
    "                best = feature\n",
    "                max_ = score\n",
    "        used_features.append(best)\n",
    "    return np.array(used_features)\n",
    "\n",
    "\n",
    "def feature_selection(data, labels, weights, num_features, method):\n",
    "    \"\"\"Selects features for the model. see explain_instance_with_data to\n",
    "       understand the parameters.\"\"\"\n",
    "    clf = Ridge(alpha=0, fit_intercept=True, random_state=check_random_state(None))\n",
    "    clf.fit(data, labels, sample_weight=weights)\n",
    "    feature_weights = sorted(zip(range(data.shape[0]),clf.coef_ * data[0]), \\\n",
    "                             key=lambda x: np.abs(x[1]),reverse=True)\n",
    "    return np.array([x[0] for x in feature_weights[:num_features]])\n"
   ]
  },
  {
   "cell_type": "raw",
   "metadata": {},
   "source": [
    "------ > let try it on a class label 0 to see the positive and negative region  <-----------\n",
    "         this could be all emotion classes 0.......6"
   ]
  },
  {
   "cell_type": "code",
   "execution_count": 180,
   "metadata": {},
   "outputs": [],
   "source": [
    "label = 0 "
   ]
  },
  {
   "cell_type": "raw",
   "metadata": {},
   "source": [
    "# some paramaters"
   ]
  },
  {
   "cell_type": "code",
   "execution_count": 181,
   "metadata": {},
   "outputs": [],
   "source": [
    "neighborhood_data = data                  # 1000x13   1000 samples segments x 13 segments\n",
    "neighborhood_labels = np.array(labels)    # 1000x7    1000 samples x 7 emotion classes\n",
    "feature_selection_x = 'auto'\n",
    "kernel_fn = kernel\n",
    "verbose = False"
   ]
  },
  {
   "cell_type": "raw",
   "metadata": {},
   "source": [
    "# compute weights for each pertubed instance based on how much it deviates from the original"
   ]
  },
  {
   "cell_type": "code",
   "execution_count": 182,
   "metadata": {},
   "outputs": [],
   "source": [
    "weights = kernel_fn(distances)\n",
    "labels_column = neighborhood_labels[:, label]   #(1000x1) # emotion label i"
   ]
  },
  {
   "cell_type": "code",
   "execution_count": 183,
   "metadata": {},
   "outputs": [
    {
     "name": "stdout",
     "output_type": "stream",
     "text": [
      "(1000,)\n",
      "[ 1.          0.59526502  0.23953341  0.41111229  0.59526502  0.50343962\n",
      "  0.68310033  0.23953341  0.41111229  0.23953341]\n"
     ]
    }
   ],
   "source": [
    "print(weights.shape)\n",
    "print(weights[0:10])"
   ]
  },
  {
   "cell_type": "raw",
   "metadata": {},
   "source": [
    "# Rank the features based on the score output by Ridge \n",
    "[n_samples, n_targets]"
   ]
  },
  {
   "cell_type": "code",
   "execution_count": 184,
   "metadata": {
    "scrolled": true
   },
   "outputs": [
    {
     "name": "stdout",
     "output_type": "stream",
     "text": [
      "[12 15  2  1  0 16 10  5  7  3  8  9 13  4 14 17  6 11]\n"
     ]
    }
   ],
   "source": [
    "used_features = feature_selection(neighborhood_data,labels_column,weights,num_features,feature_selection_x)\n",
    "print(used_features)"
   ]
  },
  {
   "cell_type": "code",
   "execution_count": 185,
   "metadata": {},
   "outputs": [
    {
     "name": "stdout",
     "output_type": "stream",
     "text": [
      "original:  [1 1 0 1 1 0 1 0 0 0 1 1 1 0 0 1 0 1]\n",
      "pick segment order:  [12 15  2  1  0 16 10  5  7  3  8  9 13  4 14 17  6 11]\n",
      "result:  [1 1 0 1 1 0 1 0 0 1 0 0 0 1 0 1 1 1]\n"
     ]
    }
   ],
   "source": [
    "# picking features to test in this order\n",
    "temp = neighborhood_data[:, used_features]\n",
    "print(\"original: \", neighborhood_data[1, :])\n",
    "print(\"pick segment order: \", used_features)\n",
    "print(\"result: \" ,temp[1])"
   ]
  },
  {
   "cell_type": "raw",
   "metadata": {},
   "source": [
    "# Features (from segmentation) scoreing on this label=0\n",
    "# Using Ridge classifier"
   ]
  },
  {
   "cell_type": "code",
   "execution_count": 186,
   "metadata": {},
   "outputs": [],
   "source": [
    "#model_regressor = Ridge(alpha=1, fit_intercept=True,random_state=check_random_state(None))\n",
    "easy_model = Ridge(alpha=1, fit_intercept=True,random_state=check_random_state(None))\n",
    "easy_model.fit(neighborhood_data[:, used_features],labels_column, sample_weight=weights)\n",
    "prediction_score = easy_model.score(neighborhood_data[:, used_features],labels_column, sample_weight=weights)"
   ]
  },
  {
   "cell_type": "code",
   "execution_count": 187,
   "metadata": {},
   "outputs": [
    {
     "name": "stdout",
     "output_type": "stream",
     "text": [
      "0.558076861563\n",
      "0.0410227487079\n",
      "[ 0.23774751  0.13753215  0.09259585  0.08052852  0.05894586 -0.0586067\n",
      "  0.05773388  0.05475488  0.05440382  0.03742119 -0.03647677 -0.02270908\n",
      "  0.01073265  0.0065025   0.00399362 -0.00262951  0.00070196  0.00031504]\n"
     ]
    }
   ],
   "source": [
    "print(prediction_score)\n",
    "print(easy_model.intercept_)        \n",
    "print(easy_model.coef_)             "
   ]
  },
  {
   "cell_type": "code",
   "execution_count": 188,
   "metadata": {},
   "outputs": [],
   "source": [
    "ret_exp.intercept = {}\n",
    "ret_exp.local_exp = {}\n",
    "ret_exp.intercept[label] = easy_model.intercept_\n",
    "ret_exp.local_exp[label] = sorted(zip(used_features, easy_model.coef_),key=lambda x: np.abs(x[1]), reverse=True)\n",
    "ret_exp.score = prediction_score\n",
    "ret_exp.segments = segments"
   ]
  },
  {
   "cell_type": "code",
   "execution_count": 189,
   "metadata": {},
   "outputs": [
    {
     "name": "stdout",
     "output_type": "stream",
     "text": [
      "{0: [(12, 0.23774750727513333), (15, 0.13753215379392308), (2, 0.092595849774542091), (1, 0.08052851723792967), (0, 0.058945860252113833), (16, -0.058606695847770528), (10, 0.057733875470887597), (5, 0.05475487624456938), (7, 0.054403816060096179), (3, 0.037421194715623156), (8, -0.036476772321885356), (9, -0.022709083891154475), (13, 0.010732649989473396), (4, 0.0065024974271669289), (14, 0.0039936171980528984), (17, -0.0026295087207979066), (6, 0.00070195532149902942), (11, 0.00031504171055907784)]}\n"
     ]
    }
   ],
   "source": [
    "print(ret_exp.local_exp)"
   ]
  },
  {
   "cell_type": "raw",
   "metadata": {},
   "source": [
    "# 7 Mark boundaries\n",
    "    - Feature ranking based on weight\n",
    "    - Green if w>0\n",
    "    - Red if w<=0"
   ]
  },
  {
   "cell_type": "code",
   "execution_count": 190,
   "metadata": {},
   "outputs": [],
   "source": [
    "from skimage.segmentation import mark_boundaries"
   ]
  },
  {
   "cell_type": "code",
   "execution_count": 191,
   "metadata": {},
   "outputs": [],
   "source": [
    "def get_image_and_mask(ret_exp, label, positive_only=True, hide_rest=False, num_features=5, min_weight=0.):\n",
    "    if label not in ret_exp.local_exp:\n",
    "        raise KeyError('Label not in explanation')\n",
    "    segments = ret_exp.segments\n",
    "    image = ret_exp.image\n",
    "    exp = ret_exp.local_exp[label]\n",
    "    mask = np.zeros(segments.shape, segments.dtype)\n",
    "    if hide_rest:\n",
    "        temp = np.zeros(ret_exp.image.shape)\n",
    "    else:\n",
    "        temp = ret_exp.image.copy()\n",
    "    if positive_only:\n",
    "        fs = [x[0] for x in exp\n",
    "              if x[1] > 0 and x[1] > min_weight][:num_features]\n",
    "        for f in fs:\n",
    "            temp[segments == f] = image[segments == f].copy()\n",
    "            mask[segments == f] = 1\n",
    "        return temp, mask\n",
    "    else:\n",
    "        for f, w in exp[:num_features]:\n",
    "            if np.abs(w) < min_weight:\n",
    "                continue\n",
    "            c = 0 if w < 0 else 1\n",
    "            mask[segments == f] = 1 if w < 0 else 2\n",
    "            temp[segments == f] = image[segments == f].copy()\n",
    "            temp[segments == f, c] = np.max(image)\n",
    "            for cp in [0, 1, 2]:\n",
    "                if c == cp:\n",
    "                    continue\n",
    "                # temp[segments == f, cp] *= 0.5\n",
    "        return temp, mask"
   ]
  },
  {
   "cell_type": "code",
   "execution_count": 192,
   "metadata": {},
   "outputs": [],
   "source": [
    "# top 5 segments feature\n",
    "temp, mask = get_image_and_mask(ret_exp, 0, positive_only=False, num_features=5, hide_rest=False)"
   ]
  },
  {
   "cell_type": "code",
   "execution_count": 193,
   "metadata": {},
   "outputs": [
    {
     "data": {
      "text/plain": [
       "<matplotlib.image.AxesImage at 0x7fdd68b59898>"
      ]
     },
     "execution_count": 193,
     "metadata": {},
     "output_type": "execute_result"
    },
    {
     "data": {
      "image/png": "[encoded data removed]",
      "text/plain": [
       "<matplotlib.figure.Figure at 0x7fdd6865dc50>"
      ]
     },
     "metadata": {},
     "output_type": "display_data"
    },
    {
     "data": {
      "image/png": "[encoded data removed]",
      "text/plain": [
       "<matplotlib.figure.Figure at 0x7fdd800282e8>"
      ]
     },
     "metadata": {},
     "output_type": "display_data"
    }
   ],
   "source": [
    "plt.figure()\n",
    "plt.imshow(temp/2+0.5)\n",
    "plt.figure()\n",
    "plt.imshow(mask)\n"
   ]
  },
  {
   "cell_type": "code",
   "execution_count": 194,
   "metadata": {},
   "outputs": [
    {
     "data": {
      "text/plain": [
       "Text(0.5,1,'angry')"
      ]
     },
     "execution_count": 194,
     "metadata": {},
     "output_type": "execute_result"
    },
    {
     "data": {
      "image/png": "[encoded data removed]",
      "text/plain": [
       "<matplotlib.figure.Figure at 0x7fdd68b4f048>"
      ]
     },
     "metadata": {},
     "output_type": "display_data"
    }
   ],
   "source": [
    "plt.imshow(mark_boundaries(temp/2+0.5, mask))\n",
    "plt.title(emotion_labels[label])"
   ]
  }
 ],
 "metadata": {
  "kernelspec": {
   "display_name": "Python 3",
   "language": "python",
   "name": "python3"
  },
  "language_info": {
   "codemirror_mode": {
    "name": "ipython",
    "version": 3
   },
   "file_extension": ".py",
   "mimetype": "text/x-python",
   "name": "python",
   "nbconvert_exporter": "python",
   "pygments_lexer": "ipython3",
   "version": "3.5.2"
  }
 },
 "nbformat": 4,
 "nbformat_minor": 2
}
