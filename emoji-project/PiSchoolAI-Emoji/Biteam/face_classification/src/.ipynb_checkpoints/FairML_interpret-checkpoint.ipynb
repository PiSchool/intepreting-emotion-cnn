{
 "cells": [
  {
   "cell_type": "code",
   "execution_count": 1,
   "metadata": {
    "scrolled": true
   },
   "outputs": [
    {
     "name": "stderr",
     "output_type": "stream",
     "text": [
      "Using TensorFlow backend.\n"
     ]
    },
    {
     "name": "stdout",
     "output_type": "stream",
     "text": [
      "Notebook run using keras: 2.0.8\n"
     ]
    }
   ],
   "source": [
    "import sys, os\n",
    "sys.path.append('../../../Interpreters/lime')\n",
    "import numpy as np\n",
    "import keras\n",
    "from keras.models import load_model\n",
    "print('Notebook run using keras:', keras.__version__)"
   ]
  },
  {
   "cell_type": "raw",
   "metadata": {},
   "source": [
    "#\n",
    "# Load the trained neural network model to be tested #\n",
    "#"
   ]
  },
  {
   "cell_type": "code",
   "execution_count": 2,
   "metadata": {},
   "outputs": [],
   "source": [
    "# name-batch-accuracy\n",
    "emotion_model_path = '../trained_models/emotion_models/fer2013_mini_XCEPTION.87-0.66.hdf5'\n",
    "emotion_labels = {0:'angry',1:'disgust',2:'fear',3:'happy', 4:'sad',5:'surprise',6:'neutral'}\n",
    "emotion_classifier = load_model(emotion_model_path, compile=False)"
   ]
  },
  {
   "cell_type": "raw",
   "metadata": {},
   "source": [
    "#\n",
    "# Get model configuration #\n",
    "#"
   ]
  },
  {
   "cell_type": "code",
   "execution_count": 3,
   "metadata": {
    "scrolled": true
   },
   "outputs": [
    {
     "name": "stdout",
     "output_type": "stream",
     "text": [
      "(64, 64)\n"
     ]
    }
   ],
   "source": [
    "emotion_target_size = emotion_classifier.input_shape[1:3]\n",
    "print(emotion_target_size)"
   ]
  },
  {
   "cell_type": "raw",
   "metadata": {},
   "source": [
    "# \n",
    "# Read some images for testing - true means it has been labelled correctly #\n",
    "#"
   ]
  },
  {
   "cell_type": "code",
   "execution_count": 4,
   "metadata": {},
   "outputs": [
    {
     "data": {
      "image/png": "[encoded data removed]",
      "text/plain": [
       "<matplotlib.figure.Figure at 0x7fbffed179e8>"
      ]
     },
     "metadata": {},
     "output_type": "display_data"
    },
    {
     "name": "stdout",
     "output_type": "stream",
     "text": [
      "(64, 64)\n"
     ]
    }
   ],
   "source": [
    "import glob as gb\n",
    "import cv2\n",
    "import matplotlib.pyplot as plt\n",
    "import utils.preprocessor as preprocess\n",
    "%matplotlib inline\n",
    "\n",
    "image_file1 = '../../../dataset/Kaggle/Testing/0/PrivateTest_6626636.jpg'     # angry face (true)\n",
    "#image_file1 = '../../../dataset/Kaggle/Testing/1/PrivateTest_47058258.jpg'    # disgust face (true)\n",
    "#image_file1 = '../../../dataset/Kaggle/Testing/2/PrivateTest_7164408.jpg'     # fear face (false)\n",
    "#image_file1 = '../../../dataset/Kaggle/Testing/3/PrivateTest_8335656.jpg'     # happy face (true)\n",
    "#image_file1 = '../../../dataset/Kaggle/Testing/4/PrivateTest_4351449.jpg'     # sad face (true)\n",
    "#image_file1 = '../../../dataset/Kaggle/Testing/5/PrivateTest_10026554.jpg'    # surprise (true)\n",
    "#image_file1 = '../../../dataset/Kaggle/Testing/6/PrivateTest_5962241.jpg'      # neutral (true)\n",
    "\n",
    "img1 = preprocess._imread(image_file1)\n",
    "img1 = preprocess._imresize(img1,emotion_target_size)\n",
    "img1 = preprocess.preprocess_input(img1)\n",
    "plt.imshow(img1,cmap='gray')\n",
    "plt.show()\n",
    "print(img1.shape)"
   ]
  },
  {
   "cell_type": "raw",
   "metadata": {},
   "source": [
    "#\n",
    "# Prediction\n",
    "#"
   ]
  },
  {
   "cell_type": "code",
   "execution_count": 5,
   "metadata": {},
   "outputs": [
    {
     "name": "stdout",
     "output_type": "stream",
     "text": [
      "image data shape:  (1, 64, 64, 1)\n",
      "prediction:  angry\n"
     ]
    }
   ],
   "source": [
    "# 4D reshape tensor\n",
    "img1_data = np.expand_dims(img1, 0)\n",
    "img1_data = np.expand_dims(img1_data, -1)\n",
    "print(\"image data shape: \", img1_data.shape)\n",
    "preds = emotion_classifier.predict(img1_data) \n",
    "emotion_label_arg = np.argmax(preds)\n",
    "emotion_text = emotion_labels[emotion_label_arg]\n",
    "print(\"prediction: \", emotion_text)"
   ]
  },
  {
   "cell_type": "code",
   "execution_count": 6,
   "metadata": {
    "scrolled": true
   },
   "outputs": [
    {
     "name": "stdout",
     "output_type": "stream",
     "text": [
      "Softmax probability of the prediction\n",
      "[[  8.61969709e-01   3.98435019e-04   1.27883121e-01   8.01160838e-03\n",
      "    3.34763230e-04   1.36138836e-03   4.10688699e-05]]\n"
     ]
    }
   ],
   "source": [
    "smax = preds\n",
    "print(\"Softmax probability of the prediction\")\n",
    "print(smax)"
   ]
  },
  {
   "cell_type": "raw",
   "metadata": {},
   "source": [
    "# Make 4D data for tensorflow and 3 channel for Lime (x,x,x,3)"
   ]
  },
  {
   "cell_type": "code",
   "execution_count": 7,
   "metadata": {},
   "outputs": [],
   "source": [
    "# make 3 channels data for lime \n",
    "#pad_0 = np.zeros((1,64,64,1),dtype=np.float)\n",
    "image_stack = np.append(img1_data, img1_data[...,0,None], axis=-1)\n",
    "image_stack = np.append(image_stack, img1_data[...,0,None], axis=-1)\n",
    "image_stack = image_stack.astype('float32')\n",
    "image_stack = np.asarray(image_stack)"
   ]
  },
  {
   "cell_type": "raw",
   "metadata": {},
   "source": [
    "# ############################################################################################################## #\n",
    "\n",
    "#                               FairML Explainer Pipline- Start here                                               #\n",
    "\n",
    "# ############################################################################################################## #"
   ]
  },
  {
   "cell_type": "code",
   "execution_count": 8,
   "metadata": {},
   "outputs": [],
   "source": [
    "import copy\n",
    "import numpy as np\n",
    "import sklearn\n",
    "import sklearn.preprocessing\n",
    "from sklearn.utils import check_random_state\n",
    "from skimage.segmentation import quickshift"
   ]
  },
  {
   "cell_type": "raw",
   "metadata": {},
   "source": [
    "# 1- Paramaters setting"
   ]
  },
  {
   "cell_type": "code",
   "execution_count": 9,
   "metadata": {},
   "outputs": [],
   "source": [
    "random_seed = check_random_state(None).randint(0, high=1000) # seed for random data gen\n",
    "qs_kernel_size = 2                                           # quickshift segmentation \n",
    "hide_color=0                                                 # mask zero or mean average when superpixels are off\n",
    "labels=(1,)                                                  # ----\n",
    "num_samples=1000                                             # number of data instances\n",
    "num_features=1000                                            # see feature_selection(..)\n",
    "top_labels=7                                                 # how many labels we want to check\n",
    "batch_size=10                                                # batch processing for any classifiers\n",
    "distance_metric='cosine'                                     # pairwise_distances function\n",
    "model_regressor=None                                         # if none, we use Ridge Regression\n",
    "classifier_fn = emotion_classifier.predict                   # Black-Box model to be explained\n",
    "image = image_stack[0]                                       # Image to be used for Lime explanation \n"
   ]
  },
  {
   "cell_type": "raw",
   "metadata": {},
   "source": [
    "# 2- Quickshift image segmentation"
   ]
  },
  {
   "cell_type": "code",
   "execution_count": 10,
   "metadata": {},
   "outputs": [],
   "source": [
    "segments = quickshift(image, kernel_size=qs_kernel_size,max_dist=200, ratio=0.2, random_seed=random_seed)"
   ]
  },
  {
   "cell_type": "code",
   "execution_count": 11,
   "metadata": {},
   "outputs": [
    {
     "data": {
      "image/png": "[encoded data removed]",
      "text/plain": [
       "<matplotlib.figure.Figure at 0x7fc060e15a20>"
      ]
     },
     "metadata": {},
     "output_type": "display_data"
    }
   ],
   "source": [
    "plt.imshow(segments)\n",
    "plt.show()"
   ]
  },
  {
   "cell_type": "code",
   "execution_count": 12,
   "metadata": {},
   "outputs": [],
   "source": [
    "fudged_image = image.copy()\n",
    "if hide_color is None:\n",
    "    for x in np.unique(segments):\n",
    "        fudged_image[segments == x] = (\n",
    "            np.mean(image[segments == x][:, 0]),\n",
    "            np.mean(image[segments == x][:, 1]),\n",
    "            np.mean(image[segments == x][:, 2]))\n",
    "else:\n",
    "    fudged_image[:] = hide_color"
   ]
  },
  {
   "cell_type": "code",
   "execution_count": 13,
   "metadata": {},
   "outputs": [
    {
     "data": {
      "image/png": "[encoded data removed]",
      "text/plain": [
       "<matplotlib.figure.Figure at 0x7fbf801d9780>"
      ]
     },
     "metadata": {},
     "output_type": "display_data"
    },
    {
     "name": "stdout",
     "output_type": "stream",
     "text": [
      "Below segment pixels willl be used as a mask (using zero)\n"
     ]
    }
   ],
   "source": [
    "plt.imshow(fudged_image/2+0.5,cmap='gray')\n",
    "plt.show()\n",
    "print(\"Below segment pixels willl be used as a mask (using zero)\")"
   ]
  },
  {
   "cell_type": "code",
   "execution_count": 14,
   "metadata": {},
   "outputs": [
    {
     "name": "stdout",
     "output_type": "stream",
     "text": [
      "(1,)\n"
     ]
    }
   ],
   "source": [
    "top = labels\n",
    "print(top)"
   ]
  },
  {
   "cell_type": "raw",
   "metadata": {},
   "source": [
    "# 3- Generating data instance to be use by Lime          \n",
    "     by masking image randomly using the segmentations\n",
    "     ---------------------------------------------------\n",
    "     (n_samples x n_segmentation)                  "
   ]
  },
  {
   "cell_type": "code",
   "execution_count": 15,
   "metadata": {},
   "outputs": [],
   "source": [
    "# number of segmentations \n",
    "n_features = np.unique(segments).shape[0]\n",
    "random_state = check_random_state(None)\n",
    "data = random_state.randint(0, 2, num_samples * n_features).reshape((num_samples, n_features))"
   ]
  },
  {
   "cell_type": "code",
   "execution_count": 16,
   "metadata": {},
   "outputs": [
    {
     "name": "stdout",
     "output_type": "stream",
     "text": [
      "[[1 1 1 ..., 0 0 0]\n",
      " [0 0 0 ..., 1 0 1]\n",
      " [1 0 0 ..., 1 1 0]\n",
      " ..., \n",
      " [1 0 0 ..., 0 0 0]\n",
      " [1 0 1 ..., 0 1 1]\n",
      " [0 0 1 ..., 1 1 0]]\n"
     ]
    },
    {
     "data": {
      "text/plain": [
       "(1000, 18)"
      ]
     },
     "execution_count": 16,
     "metadata": {},
     "output_type": "execute_result"
    }
   ],
   "source": [
    "print(data)\n",
    "data.shape"
   ]
  },
  {
   "cell_type": "raw",
   "metadata": {},
   "source": [
    "# 4- Making corresponding prediction on the given mask images\n",
    "     The altered images are fed to the black-box model for the prediction"
   ]
  },
  {
   "cell_type": "code",
   "execution_count": 17,
   "metadata": {},
   "outputs": [],
   "source": [
    "labels = []\n",
    "data[0, :] = 1\n",
    "imgs = []\n",
    "# run through all instances (i.e 1000 ways of masking)\n",
    "for row in data:\n",
    "    temp = copy.deepcopy(image)\n",
    "    zeros = np.where(row == 0)[0]\n",
    "    mask = np.zeros(segments.shape).astype(bool)\n",
    "    # masking each instance randomly\n",
    "    for z in zeros:\n",
    "        mask[segments == z] = True\n",
    "    temp[mask] = fudged_image[mask]\n",
    "    imgs.append(temp)\n",
    "    # do a batch processing\n",
    "    if len(imgs) == batch_size:\n",
    "        # Punnu: Quick fix- making to one channel\n",
    "        img_x = np.array(imgs)                  # numpy\n",
    "        img_x = img_x[:,:,:,0]                  # extract one channel (now 3D)\n",
    "        img_x = np.expand_dims(img_x, axis=-1)  # make it to 4D for tensorflow\n",
    "        preds = classifier_fn(img_x)\n",
    "        # Punnu: end\n",
    "\n",
    "        labels.extend(preds)\n",
    "        imgs = []\n",
    "        \n",
    "# not a complete full batch\n",
    "if len(imgs) > 0:\n",
    "    # Punnu: Quick fix- making to one channel\n",
    "    img_x = np.array(imgs)                  # numpy\n",
    "    img_x = img_x[:,:,:,0]                  # extract one channel (now 3D)\n",
    "    img_x = np.expand_dims(img_x, axis=-1)  # make it to 4D for tensorflow\n",
    "    preds = classifier_fn(img_x)\n",
    "    # Punnu: end\n",
    "\n",
    "    #preds = classifier_fn(np.array(imgs))\n",
    "    labels.extend(preds)"
   ]
  },
  {
   "cell_type": "code",
   "execution_count": 18,
   "metadata": {},
   "outputs": [
    {
     "data": {
      "image/png": "[encoded data removed]",
      "text/plain": [
       "<matplotlib.figure.Figure at 0x7fbf80174668>"
      ]
     },
     "metadata": {},
     "output_type": "display_data"
    },
    {
     "name": "stdout",
     "output_type": "stream",
     "text": [
      "corresponding softmax prediction: first one without masking out/original\n",
      "[[  8.61969709e-01   3.98435019e-04   1.27883121e-01   8.01160838e-03\n",
      "    3.34763230e-04   1.36138836e-03   4.10688699e-05]]\n",
      "[[ 0.51839358  0.05073846  0.05078274  0.14489889  0.17588693  0.01298939\n",
      "   0.04631005]\n",
      " [ 0.35441315  0.01880825  0.29067984  0.18447363  0.10774327  0.02483721\n",
      "   0.01904467]\n",
      " [ 0.315088    0.07505328  0.2590836   0.02470108  0.1029062   0.13817386\n",
      "   0.08499393]\n",
      " [ 0.29864907  0.000679    0.47898096  0.19112848  0.01881993  0.0097632\n",
      "   0.00197948]]\n"
     ]
    }
   ],
   "source": [
    "plt.figure(figsize=(15,15))\n",
    "plt.subplot(1,5,1)\n",
    "plt.imshow(img1,cmap='gray')\n",
    "plt.subplot(1,5,2)\n",
    "plt.imshow(img_x[0][:,:,0],cmap='gray')\n",
    "plt.subplot(1,5,3)\n",
    "plt.imshow(img_x[1][:,:,0],cmap='gray')\n",
    "plt.subplot(1,5,4)\n",
    "plt.imshow(img_x[2][:,:,0],cmap='gray')\n",
    "plt.subplot(1,5,5)\n",
    "plt.imshow(img_x[3][:,:,0],cmap='gray')\n",
    "plt.show()\n",
    "\n",
    "print(\"corresponding softmax prediction: first one without masking out/original\")\n",
    "temp = np.array(preds[0:4])\n",
    "print(smax)\n",
    "print(temp)"
   ]
  }
 ],
 "metadata": {
  "kernelspec": {
   "display_name": "Python 3",
   "language": "python",
   "name": "python3"
  },
  "language_info": {
   "codemirror_mode": {
    "name": "ipython",
    "version": 3
   },
   "file_extension": ".py",
   "mimetype": "text/x-python",
   "name": "python",
   "nbconvert_exporter": "python",
   "pygments_lexer": "ipython3",
   "version": "3.5.2"
  }
 },
 "nbformat": 4,
 "nbformat_minor": 2
}
